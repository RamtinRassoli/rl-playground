{
 "cells": [
  {
   "cell_type": "code",
   "execution_count": 1,
   "metadata": {},
   "outputs": [],
   "source": [
    "import numpy as np"
   ]
  },
  {
   "cell_type": "code",
   "execution_count": 65,
   "metadata": {},
   "outputs": [],
   "source": [
    "beta = 0.01"
   ]
  },
  {
   "cell_type": "code",
   "execution_count": 66,
   "metadata": {},
   "outputs": [],
   "source": [
    "y = [0]\n",
    "for i in range(1, 10000):\n",
    "    y.append(beta * y[i-1] + np.random.normal())"
   ]
  },
  {
   "cell_type": "code",
   "execution_count": 67,
   "metadata": {},
   "outputs": [
    {
     "name": "stdout",
     "output_type": "stream",
     "text": [
      "mean:  -0.03290518330601191\n",
      "std:  0.982895109655089\n",
      "cov:  0.9670498464303195\n"
     ]
    }
   ],
   "source": [
    "print(\"mean: \", np.mean(y[9000:10000]))\n",
    "print(\"std: \", np.std(y[9000:10000]))\n",
    "print(\"cov: \", np.cov(y[9000:10000]))"
   ]
  },
  {
   "cell_type": "code",
   "execution_count": 68,
   "metadata": {},
   "outputs": [
    {
     "name": "stdout",
     "output_type": "stream",
     "text": [
      "mean:  0.017112388179099044\n",
      "std:  0.9846085707259429\n",
      "cov:  0.9704244620089929\n"
     ]
    }
   ],
   "source": [
    "print(\"mean: \", np.mean(y[:1000]))\n",
    "print(\"std: \", np.std(y[:1000]))\n",
    "print(\"cov: \", np.cov(y[:1000]))"
   ]
  },
  {
   "cell_type": "code",
   "execution_count": null,
   "metadata": {},
   "outputs": [],
   "source": []
  }
 ],
 "metadata": {
  "kernelspec": {
   "display_name": "drlnd",
   "language": "python",
   "name": "drlnd"
  },
  "language_info": {
   "codemirror_mode": {
    "name": "ipython",
    "version": 3
   },
   "file_extension": ".py",
   "mimetype": "text/x-python",
   "name": "python",
   "nbconvert_exporter": "python",
   "pygments_lexer": "ipython3",
   "version": "3.6.6"
  }
 },
 "nbformat": 4,
 "nbformat_minor": 2
}
